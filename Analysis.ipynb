{
 "cells": [
  {
   "cell_type": "markdown",
   "metadata": {},
   "source": [
    "# NYC Taxi Trips\n",
    "\n",
    "This is an Exploratory Data Analysis about the NYC taxi trips from 2009 to 2012. \n",
    "\n",
    "Through the data analysis presented we will first study and visualize the data, create new features and clean the data analyzing abnormal values. Then we apply a machine learning model trying to predict the fare amount of taxi ride based on the pickup and dropoff locations."
   ]
  },
  {
   "cell_type": "markdown",
   "metadata": {},
   "source": [
    "## Importing packages for analysis\n",
    "\n",
    "Firstly we import all needed libraries and set some global settings for better visualization."
   ]
  },
  {
   "cell_type": "code",
   "execution_count": 1,
   "metadata": {
    "ExecuteTime": {
     "end_time": "2020-01-04T21:24:21.155425Z",
     "start_time": "2020-01-04T21:24:19.094803Z"
    }
   },
   "outputs": [],
   "source": [
    "import pandas as pd\n",
    "import numpy as np\n",
    "import matplotlib.pyplot as plt\n",
    "import seaborn as sns\n",
    "import missingno as msno\n",
    "\n",
    "%matplotlib inline"
   ]
  },
  {
   "cell_type": "code",
   "execution_count": 2,
   "metadata": {
    "ExecuteTime": {
     "end_time": "2020-01-04T21:24:21.163459Z",
     "start_time": "2020-01-04T21:24:21.158569Z"
    }
   },
   "outputs": [],
   "source": [
    "plt.rcParams['figure.figsize'] = (10.0, 8.0)\n",
    "pd.set_option('display.max_rows', 500)\n",
    "pd.set_option('display.max_columns', 500)\n",
    "pd.set_option('display.width', 1000)"
   ]
  },
  {
   "cell_type": "markdown",
   "metadata": {},
   "source": [
    "## Dataset\n",
    "\n",
    "Now, we import the dataset from the files and merge them into a unique pandas DataFrame to simplify the analysis."
   ]
  },
  {
   "cell_type": "code",
   "execution_count": 3,
   "metadata": {
    "ExecuteTime": {
     "end_time": "2020-01-04T21:25:12.010890Z",
     "start_time": "2020-01-04T21:24:21.168094Z"
    }
   },
   "outputs": [],
   "source": [
    "df_2009 = pd.read_json('data/data-sample_data-nyctaxi-trips-2009-json_corrigido.json', lines=True)\n",
    "df_2010 = pd.read_json('data/data-sample_data-nyctaxi-trips-2010-json_corrigido.json', lines=True)\n",
    "df_2011 = pd.read_json('data/data-sample_data-nyctaxi-trips-2011-json_corrigido.json', lines=True)\n",
    "df_2012 = pd.read_json('data/data-sample_data-nyctaxi-trips-2012-json_corrigido.json', lines=True)"
   ]
  },
  {
   "cell_type": "code",
   "execution_count": 4,
   "metadata": {
    "ExecuteTime": {
     "end_time": "2020-01-04T21:25:14.525002Z",
     "start_time": "2020-01-04T21:25:12.020230Z"
    }
   },
   "outputs": [],
   "source": [
    "df_trips = pd.concat([df_2009, df_2010, df_2011, df_2012])"
   ]
  },
  {
   "cell_type": "code",
   "execution_count": 5,
   "metadata": {
    "ExecuteTime": {
     "end_time": "2020-01-04T21:25:14.582049Z",
     "start_time": "2020-01-04T21:25:14.527755Z"
    }
   },
   "outputs": [],
   "source": [
    "df_vendor = pd.read_csv('data/data-vendor_lookup-csv.csv')\n",
    "df_payment = pd.read_csv('data/data-payment_lookup-csv.csv', skiprows=1)"
   ]
  },
  {
   "cell_type": "markdown",
   "metadata": {},
   "source": [
    "We can look at the first lines of each DataFrame to have an idea of the data."
   ]
  },
  {
   "cell_type": "code",
   "execution_count": 6,
   "metadata": {
    "ExecuteTime": {
     "end_time": "2020-01-04T21:25:14.624778Z",
     "start_time": "2020-01-04T21:25:14.583762Z"
    }
   },
   "outputs": [
    {
     "data": {
      "text/html": [
       "<div>\n",
       "<style scoped>\n",
       "    .dataframe tbody tr th:only-of-type {\n",
       "        vertical-align: middle;\n",
       "    }\n",
       "\n",
       "    .dataframe tbody tr th {\n",
       "        vertical-align: top;\n",
       "    }\n",
       "\n",
       "    .dataframe thead th {\n",
       "        text-align: right;\n",
       "    }\n",
       "</style>\n",
       "<table border=\"1\" class=\"dataframe\">\n",
       "  <thead>\n",
       "    <tr style=\"text-align: right;\">\n",
       "      <th></th>\n",
       "      <th>dropoff_datetime</th>\n",
       "      <th>dropoff_latitude</th>\n",
       "      <th>dropoff_longitude</th>\n",
       "      <th>fare_amount</th>\n",
       "      <th>passenger_count</th>\n",
       "      <th>payment_type</th>\n",
       "      <th>pickup_datetime</th>\n",
       "      <th>pickup_latitude</th>\n",
       "      <th>pickup_longitude</th>\n",
       "      <th>rate_code</th>\n",
       "      <th>store_and_fwd_flag</th>\n",
       "      <th>surcharge</th>\n",
       "      <th>tip_amount</th>\n",
       "      <th>tolls_amount</th>\n",
       "      <th>total_amount</th>\n",
       "      <th>trip_distance</th>\n",
       "      <th>vendor_id</th>\n",
       "    </tr>\n",
       "  </thead>\n",
       "  <tbody>\n",
       "    <tr>\n",
       "      <th>0</th>\n",
       "      <td>2009-04-21T18:57:09.433767+00:00</td>\n",
       "      <td>40.747950</td>\n",
       "      <td>-73.994712</td>\n",
       "      <td>5.4</td>\n",
       "      <td>2</td>\n",
       "      <td>Cash</td>\n",
       "      <td>2009-04-21T18:51:11.767205+00:00</td>\n",
       "      <td>40.742950</td>\n",
       "      <td>-74.004114</td>\n",
       "      <td>NaN</td>\n",
       "      <td>NaN</td>\n",
       "      <td>0.0</td>\n",
       "      <td>0.0</td>\n",
       "      <td>0.0</td>\n",
       "      <td>5.4</td>\n",
       "      <td>0.80</td>\n",
       "      <td>CMT</td>\n",
       "    </tr>\n",
       "    <tr>\n",
       "      <th>1</th>\n",
       "      <td>2009-01-13T07:50:36.386011+00:00</td>\n",
       "      <td>40.792385</td>\n",
       "      <td>-73.940449</td>\n",
       "      <td>15.4</td>\n",
       "      <td>1</td>\n",
       "      <td>Cash</td>\n",
       "      <td>2009-01-13T07:40:07.639754+00:00</td>\n",
       "      <td>40.747784</td>\n",
       "      <td>-73.996506</td>\n",
       "      <td>NaN</td>\n",
       "      <td>NaN</td>\n",
       "      <td>0.0</td>\n",
       "      <td>0.0</td>\n",
       "      <td>0.0</td>\n",
       "      <td>15.4</td>\n",
       "      <td>5.40</td>\n",
       "      <td>CMT</td>\n",
       "    </tr>\n",
       "    <tr>\n",
       "      <th>2</th>\n",
       "      <td>2009-01-06T19:43:09.908429+00:00</td>\n",
       "      <td>40.768108</td>\n",
       "      <td>-73.944535</td>\n",
       "      <td>6.1</td>\n",
       "      <td>5</td>\n",
       "      <td>CASH</td>\n",
       "      <td>2009-01-06T19:30:44.142187+00:00</td>\n",
       "      <td>40.752070</td>\n",
       "      <td>-73.951340</td>\n",
       "      <td>NaN</td>\n",
       "      <td>NaN</td>\n",
       "      <td>1.0</td>\n",
       "      <td>0.0</td>\n",
       "      <td>0.0</td>\n",
       "      <td>7.1</td>\n",
       "      <td>1.67</td>\n",
       "      <td>VTS</td>\n",
       "    </tr>\n",
       "    <tr>\n",
       "      <th>3</th>\n",
       "      <td>2009-09-24T08:41:56.739991+00:00</td>\n",
       "      <td>40.721812</td>\n",
       "      <td>-73.958122</td>\n",
       "      <td>12.9</td>\n",
       "      <td>1</td>\n",
       "      <td>CASH</td>\n",
       "      <td>2009-09-24T08:28:09.004451+00:00</td>\n",
       "      <td>40.729128</td>\n",
       "      <td>-74.001117</td>\n",
       "      <td>NaN</td>\n",
       "      <td>NaN</td>\n",
       "      <td>0.5</td>\n",
       "      <td>0.0</td>\n",
       "      <td>0.0</td>\n",
       "      <td>13.4</td>\n",
       "      <td>4.13</td>\n",
       "      <td>VTS</td>\n",
       "    </tr>\n",
       "    <tr>\n",
       "      <th>4</th>\n",
       "      <td>2009-10-29T05:57:22.880174+00:00</td>\n",
       "      <td>40.776075</td>\n",
       "      <td>-73.979757</td>\n",
       "      <td>7.7</td>\n",
       "      <td>1</td>\n",
       "      <td>CASH</td>\n",
       "      <td>2009-10-29T05:50:39.214629+00:00</td>\n",
       "      <td>40.756873</td>\n",
       "      <td>-73.976600</td>\n",
       "      <td>NaN</td>\n",
       "      <td>NaN</td>\n",
       "      <td>0.5</td>\n",
       "      <td>0.0</td>\n",
       "      <td>0.0</td>\n",
       "      <td>8.2</td>\n",
       "      <td>2.03</td>\n",
       "      <td>VTS</td>\n",
       "    </tr>\n",
       "  </tbody>\n",
       "</table>\n",
       "</div>"
      ],
      "text/plain": [
       "                   dropoff_datetime  dropoff_latitude  dropoff_longitude  fare_amount  passenger_count payment_type                   pickup_datetime  pickup_latitude  pickup_longitude  rate_code  store_and_fwd_flag  surcharge  tip_amount  tolls_amount  total_amount  trip_distance vendor_id\n",
       "0  2009-04-21T18:57:09.433767+00:00         40.747950         -73.994712          5.4                2         Cash  2009-04-21T18:51:11.767205+00:00        40.742950        -74.004114        NaN                 NaN        0.0         0.0           0.0           5.4           0.80       CMT\n",
       "1  2009-01-13T07:50:36.386011+00:00         40.792385         -73.940449         15.4                1         Cash  2009-01-13T07:40:07.639754+00:00        40.747784        -73.996506        NaN                 NaN        0.0         0.0           0.0          15.4           5.40       CMT\n",
       "2  2009-01-06T19:43:09.908429+00:00         40.768108         -73.944535          6.1                5         CASH  2009-01-06T19:30:44.142187+00:00        40.752070        -73.951340        NaN                 NaN        1.0         0.0           0.0           7.1           1.67       VTS\n",
       "3  2009-09-24T08:41:56.739991+00:00         40.721812         -73.958122         12.9                1         CASH  2009-09-24T08:28:09.004451+00:00        40.729128        -74.001117        NaN                 NaN        0.5         0.0           0.0          13.4           4.13       VTS\n",
       "4  2009-10-29T05:57:22.880174+00:00         40.776075         -73.979757          7.7                1         CASH  2009-10-29T05:50:39.214629+00:00        40.756873        -73.976600        NaN                 NaN        0.5         0.0           0.0           8.2           2.03       VTS"
      ]
     },
     "execution_count": 6,
     "metadata": {},
     "output_type": "execute_result"
    }
   ],
   "source": [
    "df_trips.head()"
   ]
  },
  {
   "cell_type": "code",
   "execution_count": 7,
   "metadata": {
    "ExecuteTime": {
     "end_time": "2020-01-04T21:25:14.640409Z",
     "start_time": "2020-01-04T21:25:14.627417Z"
    }
   },
   "outputs": [
    {
     "data": {
      "text/html": [
       "<div>\n",
       "<style scoped>\n",
       "    .dataframe tbody tr th:only-of-type {\n",
       "        vertical-align: middle;\n",
       "    }\n",
       "\n",
       "    .dataframe tbody tr th {\n",
       "        vertical-align: top;\n",
       "    }\n",
       "\n",
       "    .dataframe thead th {\n",
       "        text-align: right;\n",
       "    }\n",
       "</style>\n",
       "<table border=\"1\" class=\"dataframe\">\n",
       "  <thead>\n",
       "    <tr style=\"text-align: right;\">\n",
       "      <th></th>\n",
       "      <th>vendor_id</th>\n",
       "      <th>name</th>\n",
       "      <th>address</th>\n",
       "      <th>city</th>\n",
       "      <th>state</th>\n",
       "      <th>zip</th>\n",
       "      <th>country</th>\n",
       "      <th>contact</th>\n",
       "      <th>current</th>\n",
       "    </tr>\n",
       "  </thead>\n",
       "  <tbody>\n",
       "    <tr>\n",
       "      <th>0</th>\n",
       "      <td>CMT</td>\n",
       "      <td>Creative Mobile Technologies, LLC</td>\n",
       "      <td>950 4th Road Suite 78</td>\n",
       "      <td>Brooklyn</td>\n",
       "      <td>NY</td>\n",
       "      <td>11210</td>\n",
       "      <td>USA</td>\n",
       "      <td>contactCMT@gmail.com</td>\n",
       "      <td>Yes</td>\n",
       "    </tr>\n",
       "    <tr>\n",
       "      <th>1</th>\n",
       "      <td>VTS</td>\n",
       "      <td>VeriFone Inc</td>\n",
       "      <td>26 Summit St.</td>\n",
       "      <td>Flushing</td>\n",
       "      <td>NY</td>\n",
       "      <td>11354</td>\n",
       "      <td>USA</td>\n",
       "      <td>admin@vtstaxi.com</td>\n",
       "      <td>Yes</td>\n",
       "    </tr>\n",
       "    <tr>\n",
       "      <th>2</th>\n",
       "      <td>DDS</td>\n",
       "      <td>Dependable Driver Service, Inc</td>\n",
       "      <td>8554 North Homestead St.</td>\n",
       "      <td>Bronx</td>\n",
       "      <td>NY</td>\n",
       "      <td>10472</td>\n",
       "      <td>USA</td>\n",
       "      <td>9778896500</td>\n",
       "      <td>Yes</td>\n",
       "    </tr>\n",
       "    <tr>\n",
       "      <th>3</th>\n",
       "      <td>TS</td>\n",
       "      <td>Total Solutions Co</td>\n",
       "      <td>Five Boroughs Taxi Co.</td>\n",
       "      <td>Brooklyn</td>\n",
       "      <td>NY</td>\n",
       "      <td>11229</td>\n",
       "      <td>USA</td>\n",
       "      <td>mgmt@5btc.com</td>\n",
       "      <td>Yes</td>\n",
       "    </tr>\n",
       "    <tr>\n",
       "      <th>4</th>\n",
       "      <td>MT</td>\n",
       "      <td>Mega Taxi</td>\n",
       "      <td>4 East Jennings St.</td>\n",
       "      <td>Brooklyn</td>\n",
       "      <td>NY</td>\n",
       "      <td>11228</td>\n",
       "      <td>USA</td>\n",
       "      <td>contact@megataxico.com</td>\n",
       "      <td>No</td>\n",
       "    </tr>\n",
       "  </tbody>\n",
       "</table>\n",
       "</div>"
      ],
      "text/plain": [
       "  vendor_id                               name                   address      city state    zip country                 contact current\n",
       "0       CMT  Creative Mobile Technologies, LLC     950 4th Road Suite 78  Brooklyn    NY  11210     USA    contactCMT@gmail.com     Yes\n",
       "1       VTS                       VeriFone Inc             26 Summit St.  Flushing    NY  11354     USA       admin@vtstaxi.com     Yes\n",
       "2       DDS     Dependable Driver Service, Inc  8554 North Homestead St.     Bronx    NY  10472     USA              9778896500     Yes\n",
       "3        TS                 Total Solutions Co    Five Boroughs Taxi Co.  Brooklyn    NY  11229     USA           mgmt@5btc.com     Yes\n",
       "4        MT                          Mega Taxi       4 East Jennings St.  Brooklyn    NY  11228     USA  contact@megataxico.com      No"
      ]
     },
     "execution_count": 7,
     "metadata": {},
     "output_type": "execute_result"
    }
   ],
   "source": [
    "df_vendor.head()"
   ]
  },
  {
   "cell_type": "code",
   "execution_count": 8,
   "metadata": {
    "ExecuteTime": {
     "end_time": "2020-01-04T21:25:14.653470Z",
     "start_time": "2020-01-04T21:25:14.644591Z"
    }
   },
   "outputs": [
    {
     "data": {
      "text/html": [
       "<div>\n",
       "<style scoped>\n",
       "    .dataframe tbody tr th:only-of-type {\n",
       "        vertical-align: middle;\n",
       "    }\n",
       "\n",
       "    .dataframe tbody tr th {\n",
       "        vertical-align: top;\n",
       "    }\n",
       "\n",
       "    .dataframe thead th {\n",
       "        text-align: right;\n",
       "    }\n",
       "</style>\n",
       "<table border=\"1\" class=\"dataframe\">\n",
       "  <thead>\n",
       "    <tr style=\"text-align: right;\">\n",
       "      <th></th>\n",
       "      <th>payment_type</th>\n",
       "      <th>payment_lookup</th>\n",
       "    </tr>\n",
       "  </thead>\n",
       "  <tbody>\n",
       "    <tr>\n",
       "      <th>0</th>\n",
       "      <td>Cas</td>\n",
       "      <td>Cash</td>\n",
       "    </tr>\n",
       "    <tr>\n",
       "      <th>1</th>\n",
       "      <td>CAS</td>\n",
       "      <td>Cash</td>\n",
       "    </tr>\n",
       "    <tr>\n",
       "      <th>2</th>\n",
       "      <td>Cre</td>\n",
       "      <td>Credit</td>\n",
       "    </tr>\n",
       "    <tr>\n",
       "      <th>3</th>\n",
       "      <td>CRE</td>\n",
       "      <td>Credit</td>\n",
       "    </tr>\n",
       "    <tr>\n",
       "      <th>4</th>\n",
       "      <td>No</td>\n",
       "      <td>No Charge</td>\n",
       "    </tr>\n",
       "  </tbody>\n",
       "</table>\n",
       "</div>"
      ],
      "text/plain": [
       "  payment_type payment_lookup\n",
       "0          Cas           Cash\n",
       "1          CAS           Cash\n",
       "2          Cre         Credit\n",
       "3          CRE         Credit\n",
       "4          No       No Charge"
      ]
     },
     "execution_count": 8,
     "metadata": {},
     "output_type": "execute_result"
    }
   ],
   "source": [
    "df_payment.head()"
   ]
  },
  {
   "cell_type": "markdown",
   "metadata": {},
   "source": [
    "Looking the data we can see that we need to use just the namefrom the **vendor lookup** for our analysis."
   ]
  },
  {
   "cell_type": "markdown",
   "metadata": {},
   "source": [
    "#### Merge Datasets\n",
    "\n",
    "Now we can merge all the datasets and then delete the used ones to free memory."
   ]
  },
  {
   "cell_type": "code",
   "execution_count": 9,
   "metadata": {
    "ExecuteTime": {
     "end_time": "2020-01-04T21:25:20.420429Z",
     "start_time": "2020-01-04T21:25:14.655643Z"
    }
   },
   "outputs": [],
   "source": [
    "df = pd.merge(df_trips, df_vendor[['vendor_id', 'name']], how='left', on='vendor_id')\n",
    "df = pd.merge(df, df_payment, how='left', on='payment_type')"
   ]
  },
  {
   "cell_type": "code",
   "execution_count": 10,
   "metadata": {
    "ExecuteTime": {
     "end_time": "2020-01-04T21:25:21.122072Z",
     "start_time": "2020-01-04T21:25:20.425605Z"
    }
   },
   "outputs": [],
   "source": [
    "del df_2009\n",
    "del df_2010\n",
    "del df_2011\n",
    "del df_2012\n",
    "del df_payment\n",
    "del df_trips\n",
    "del df_vendor"
   ]
  },
  {
   "cell_type": "markdown",
   "metadata": {},
   "source": [
    "#### Handling datetime\n",
    "\n",
    "We have to transform the strings representing datetime values to datetime64 to have an easier job in the analysis"
   ]
  },
  {
   "cell_type": "code",
   "execution_count": 11,
   "metadata": {
    "ExecuteTime": {
     "end_time": "2020-01-04T21:25:26.918238Z",
     "start_time": "2020-01-04T21:25:21.125681Z"
    }
   },
   "outputs": [],
   "source": [
    "df.dropoff_datetime = pd.to_datetime(df.dropoff_datetime)\n",
    "df.pickup_datetime = pd.to_datetime(df.pickup_datetime)"
   ]
  },
  {
   "cell_type": "markdown",
   "metadata": {},
   "source": [
    "Now we have a complete dataset and we can study and analyze the data!"
   ]
  },
  {
   "cell_type": "markdown",
   "metadata": {},
   "source": [
    "## Exploratory Data Analysis"
   ]
  },
  {
   "cell_type": "markdown",
   "metadata": {},
   "source": [
    "### Missing values\n",
    "\n",
    "The first thing we do is to identify if there's any missing value in the dataset and handle them. To visuzalize the missing values we used the missingno library."
   ]
  },
  {
   "cell_type": "code",
   "execution_count": 12,
   "metadata": {
    "ExecuteTime": {
     "end_time": "2020-01-04T21:26:30.465176Z",
     "start_time": "2020-01-04T21:25:26.920247Z"
    }
   },
   "outputs": [
    {
     "data": {
      "image/png": "[encoded data removed]",
      "text/plain": [
       "<Figure size 1800x720 with 2 Axes>"
      ]
     },
     "metadata": {
      "needs_background": "light"
     },
     "output_type": "display_data"
    }
   ],
   "source": [
    "msno.matrix(df);"
   ]
  },
  {
   "cell_type": "markdown",
   "metadata": {},
   "source": [
    "As shown in the figure, there's only two columns that have a lot of missing values (rate_code and store_and_fwd_flag). As they won't affect our analysis we will just drop them and do some consistency check to see if there's any missing values we didn't see in the figure."
   ]
  },
  {
   "cell_type": "code",
   "execution_count": 13,
   "metadata": {
    "ExecuteTime": {
     "end_time": "2020-01-04T21:26:33.420080Z",
     "start_time": "2020-01-04T21:26:30.485992Z"
    }
   },
   "outputs": [],
   "source": [
    "df.drop(columns=['rate_code', 'store_and_fwd_flag'], inplace=True)"
   ]
  },
  {
   "cell_type": "code",
   "execution_count": 14,
   "metadata": {
    "ExecuteTime": {
     "end_time": "2020-01-04T21:26:34.941423Z",
     "start_time": "2020-01-04T21:26:33.429758Z"
    }
   },
   "outputs": [
    {
     "data": {
      "text/plain": [
       "dropoff_datetime     0\n",
       "dropoff_latitude     0\n",
       "dropoff_longitude    0\n",
       "fare_amount          0\n",
       "passenger_count      0\n",
       "payment_type         0\n",
       "pickup_datetime      0\n",
       "pickup_latitude      0\n",
       "pickup_longitude     0\n",
       "surcharge            0\n",
       "tip_amount           0\n",
       "tolls_amount         0\n",
       "total_amount         0\n",
       "trip_distance        0\n",
       "vendor_id            0\n",
       "name                 0\n",
       "payment_lookup       0\n",
       "dtype: int64"
      ]
     },
     "execution_count": 14,
     "metadata": {},
     "output_type": "execute_result"
    }
   ],
   "source": [
    "df.isna().sum()"
   ]
  },
  {
   "cell_type": "markdown",
   "metadata": {},
   "source": [
    "### Feature Engineering - Date Features\n",
    "\n",
    "We know that we don't have any more missing values. Now we will create some new features based on the pickup and dropoff datetime and locations to perform analysis. We will create features: the time elapsed and the average speed. Those features will be used to visualization and check abnormal values. \n",
    "\n",
    "Using the Google Maps, we could check that the *trip_distance* feature is in miles. [Path of first example of the dataset](https://www.google.com.br/maps/dir/40.74295,+-74.004114/40.74795,+-73.994712/@40.7457116,-74.0037917,16z/data=!3m1!4b1!4m10!4m9!1m3!2m2!1d-74.004114!2d40.74295!1m3!2m2!1d-73.994712!2d40.74795!3e2)"
   ]
  },
  {
   "cell_type": "code",
   "execution_count": 15,
   "metadata": {
    "ExecuteTime": {
     "end_time": "2020-01-04T21:36:19.934674Z",
     "start_time": "2020-01-04T21:26:34.943778Z"
    }
   },
   "outputs": [],
   "source": [
    "df['elapsed_time_hours'] = df.apply(lambda x: (x.dropoff_datetime-x.pickup_datetime).total_seconds()/3600, axis=1)\n",
    "df['speed_miles_per_h'] = df['trip_distance']/df['elapsed_time_hours']"
   ]
  },
  {
   "cell_type": "markdown",
   "metadata": {},
   "source": [
    "### Abnormal values\n",
    "\n",
    "Now we can filter some abnormal values that can be contained on the dataset. Some of the features we will look at:\n",
    "\n",
    "- trip_distance\n",
    "- elapsed_time_hours\n",
    "- speed_miles_per_h\n",
    "- dropoff_latitude\n",
    "- dropoff_longitude\n",
    "- passenger_count\n",
    "- pickup_latitude\n",
    "- pickup_longitude\n",
    "- total_amount\n",
    "\n",
    "The first thing we can observe is some basic statistics from those features and see if we can find any abnormal value."
   ]
  },
  {
   "cell_type": "code",
   "execution_count": 16,
   "metadata": {
    "ExecuteTime": {
     "end_time": "2020-01-04T21:36:22.465073Z",
     "start_time": "2020-01-04T21:36:19.937572Z"
    }
   },
   "outputs": [
    {
     "data": {
      "text/html": [
       "<div>\n",
       "<style scoped>\n",
       "    .dataframe tbody tr th:only-of-type {\n",
       "        vertical-align: middle;\n",
       "    }\n",
       "\n",
       "    .dataframe tbody tr th {\n",
       "        vertical-align: top;\n",
       "    }\n",
       "\n",
       "    .dataframe thead th {\n",
       "        text-align: right;\n",
       "    }\n",
       "</style>\n",
       "<table border=\"1\" class=\"dataframe\">\n",
       "  <thead>\n",
       "    <tr style=\"text-align: right;\">\n",
       "      <th></th>\n",
       "      <th>trip_distance</th>\n",
       "      <th>elapsed_time_hours</th>\n",
       "      <th>speed_miles_per_h</th>\n",
       "      <th>dropoff_latitude</th>\n",
       "      <th>dropoff_longitude</th>\n",
       "      <th>passenger_count</th>\n",
       "      <th>pickup_latitude</th>\n",
       "      <th>pickup_longitude</th>\n",
       "      <th>total_amount</th>\n",
       "    </tr>\n",
       "  </thead>\n",
       "  <tbody>\n",
       "    <tr>\n",
       "      <th>count</th>\n",
       "      <td>4.000000e+06</td>\n",
       "      <td>4.000000e+06</td>\n",
       "      <td>4.000000e+06</td>\n",
       "      <td>4.000000e+06</td>\n",
       "      <td>4.000000e+06</td>\n",
       "      <td>4.000000e+06</td>\n",
       "      <td>4.000000e+06</td>\n",
       "      <td>4.000000e+06</td>\n",
       "      <td>4.000000e+06</td>\n",
       "    </tr>\n",
       "    <tr>\n",
       "      <th>mean</th>\n",
       "      <td>2.678209e+00</td>\n",
       "      <td>1.457988e-01</td>\n",
       "      <td>2.021920e+01</td>\n",
       "      <td>4.013500e+01</td>\n",
       "      <td>-7.284804e+01</td>\n",
       "      <td>1.733573e+00</td>\n",
       "      <td>4.012473e+01</td>\n",
       "      <td>-7.283060e+01</td>\n",
       "      <td>1.032687e+01</td>\n",
       "    </tr>\n",
       "    <tr>\n",
       "      <th>std</th>\n",
       "      <td>3.130601e+00</td>\n",
       "      <td>4.059804e-02</td>\n",
       "      <td>2.630099e+01</td>\n",
       "      <td>4.986513e+00</td>\n",
       "      <td>9.050543e+00</td>\n",
       "      <td>1.254536e+00</td>\n",
       "      <td>5.026362e+00</td>\n",
       "      <td>9.122395e+00</td>\n",
       "      <td>8.503208e+00</td>\n",
       "    </tr>\n",
       "    <tr>\n",
       "      <th>min</th>\n",
       "      <td>0.000000e+00</td>\n",
       "      <td>6.840799e-03</td>\n",
       "      <td>0.000000e+00</td>\n",
       "      <td>-1.520200e-02</td>\n",
       "      <td>-7.919139e+01</td>\n",
       "      <td>0.000000e+00</td>\n",
       "      <td>-9.262000e-03</td>\n",
       "      <td>-8.487835e+01</td>\n",
       "      <td>2.500000e+00</td>\n",
       "    </tr>\n",
       "    <tr>\n",
       "      <th>25%</th>\n",
       "      <td>1.000000e+00</td>\n",
       "      <td>1.172772e-01</td>\n",
       "      <td>6.789120e+00</td>\n",
       "      <td>4.073537e+01</td>\n",
       "      <td>-7.399067e+01</td>\n",
       "      <td>1.000000e+00</td>\n",
       "      <td>4.073639e+01</td>\n",
       "      <td>-7.399112e+01</td>\n",
       "      <td>5.700000e+00</td>\n",
       "    </tr>\n",
       "    <tr>\n",
       "      <th>50%</th>\n",
       "      <td>1.700000e+00</td>\n",
       "      <td>1.456205e-01</td>\n",
       "      <td>1.199488e+01</td>\n",
       "      <td>4.075449e+01</td>\n",
       "      <td>-7.397953e+01</td>\n",
       "      <td>1.000000e+00</td>\n",
       "      <td>4.075453e+01</td>\n",
       "      <td>-7.398111e+01</td>\n",
       "      <td>7.800000e+00</td>\n",
       "    </tr>\n",
       "    <tr>\n",
       "      <th>75%</th>\n",
       "      <td>3.000000e+00</td>\n",
       "      <td>1.742050e-01</td>\n",
       "      <td>2.246880e+01</td>\n",
       "      <td>4.076952e+01</td>\n",
       "      <td>-7.396339e+01</td>\n",
       "      <td>2.000000e+00</td>\n",
       "      <td>4.076844e+01</td>\n",
       "      <td>-7.396681e+01</td>\n",
       "      <td>1.140000e+01</td>\n",
       "    </tr>\n",
       "    <tr>\n",
       "      <th>max</th>\n",
       "      <td>4.992000e+01</td>\n",
       "      <td>2.920377e-01</td>\n",
       "      <td>1.548665e+03</td>\n",
       "      <td>4.793581e+01</td>\n",
       "      <td>8.668000e-03</td>\n",
       "      <td>6.000000e+00</td>\n",
       "      <td>4.792285e+01</td>\n",
       "      <td>4.023000e-03</td>\n",
       "      <td>2.300000e+02</td>\n",
       "    </tr>\n",
       "  </tbody>\n",
       "</table>\n",
       "</div>"
      ],
      "text/plain": [
       "       trip_distance  elapsed_time_hours  speed_miles_per_h  dropoff_latitude  dropoff_longitude  passenger_count  pickup_latitude  pickup_longitude  total_amount\n",
       "count   4.000000e+06        4.000000e+06       4.000000e+06      4.000000e+06       4.000000e+06     4.000000e+06     4.000000e+06      4.000000e+06  4.000000e+06\n",
       "mean    2.678209e+00        1.457988e-01       2.021920e+01      4.013500e+01      -7.284804e+01     1.733573e+00     4.012473e+01     -7.283060e+01  1.032687e+01\n",
       "std     3.130601e+00        4.059804e-02       2.630099e+01      4.986513e+00       9.050543e+00     1.254536e+00     5.026362e+00      9.122395e+00  8.503208e+00\n",
       "min     0.000000e+00        6.840799e-03       0.000000e+00     -1.520200e-02      -7.919139e+01     0.000000e+00    -9.262000e-03     -8.487835e+01  2.500000e+00\n",
       "25%     1.000000e+00        1.172772e-01       6.789120e+00      4.073537e+01      -7.399067e+01     1.000000e+00     4.073639e+01     -7.399112e+01  5.700000e+00\n",
       "50%     1.700000e+00        1.456205e-01       1.199488e+01      4.075449e+01      -7.397953e+01     1.000000e+00     4.075453e+01     -7.398111e+01  7.800000e+00\n",
       "75%     3.000000e+00        1.742050e-01       2.246880e+01      4.076952e+01      -7.396339e+01     2.000000e+00     4.076844e+01     -7.396681e+01  1.140000e+01\n",
       "max     4.992000e+01        2.920377e-01       1.548665e+03      4.793581e+01       8.668000e-03     6.000000e+00     4.792285e+01      4.023000e-03  2.300000e+02"
      ]
     },
     "execution_count": 16,
     "metadata": {},
     "output_type": "execute_result"
    }
   ],
   "source": [
    "df[['trip_distance', 'elapsed_time_hours', 'speed_miles_per_h', 'dropoff_latitude', 'dropoff_longitude', \n",
    "    'passenger_count', 'pickup_latitude', 'pickup_longitude', 'total_amount']].describe()"
   ]
  },
  {
   "cell_type": "code",
   "execution_count": 17,
   "metadata": {
    "ExecuteTime": {
     "end_time": "2020-01-04T21:36:22.529925Z",
     "start_time": "2020-01-04T21:36:22.467775Z"
    }
   },
   "outputs": [
    {
     "data": {
      "text/plain": [
       "1    2589416\n",
       "2     729792\n",
       "5     339892\n",
       "3     207760\n",
       "4     116812\n",
       "6      15884\n",
       "0        444\n",
       "Name: passenger_count, dtype: int64"
      ]
     },
     "execution_count": 17,
     "metadata": {},
     "output_type": "execute_result"
    }
   ],
   "source": [
    "df.passenger_count.value_counts()"
   ]
  },
  {
   "cell_type": "markdown",
   "metadata": {},
   "source": [
    "Analyzing those statistics we can find some intriguing points:\n",
    "\n",
    "- Trips with 0 miles\n",
    "- Trips with speed above 150 miles per hour\n",
    "- Dropoff and pickup coordinates close to 0\n",
    "- Trips with 0 passengers\n",
    "\n",
    "For the 0 passengers we also observed that it only represents 444 examples, so we will drop that.\n",
    "\n",
    "We will consider those abnormal values as errors of typing and will drop them from our dataset. Here are the filters we will consider:\n",
    "\n",
    "- As the latitude and longitude coordinates for NYC are: 40.730610, -73.935242, we will consider only the data contained on latitude 30 to 50 and longitude -63 to -83\n",
    "- Trips have to have a minimum distance of 0.00001 and a maximum speed of 40 miles per hour\n",
    "- Trips have to have at leat 1 passenger"
   ]
  },
  {
   "cell_type": "code",
   "execution_count": 18,
   "metadata": {
    "ExecuteTime": {
     "end_time": "2020-01-04T21:36:23.565374Z",
     "start_time": "2020-01-04T21:36:22.532315Z"
    }
   },
   "outputs": [],
   "source": [
    "df = df[\n",
    "        (df.dropoff_latitude >= 30) & (df.dropoff_latitude <= 50) &\n",
    "        (df.pickup_latitude >= 30) & (df.pickup_latitude <= 50) &\n",
    "        (df.dropoff_longitude >= -83) & (df.dropoff_longitude <= -63) &\n",
    "        (df.pickup_longitude >= -83) & (df.pickup_longitude <= -63) &\n",
    "        (df.trip_distance >= 0.00001) & (df.speed_miles_per_h <= 40) &\n",
    "        (df.passenger_count > 0)\n",
    "       ]"
   ]
  },
  {
   "cell_type": "code",
   "execution_count": 19,
   "metadata": {
    "ExecuteTime": {
     "end_time": "2020-01-04T21:36:23.572647Z",
     "start_time": "2020-01-04T21:36:23.568452Z"
    }
   },
   "outputs": [
    {
     "data": {
      "text/plain": [
       "(3460904, 19)"
      ]
     },
     "execution_count": 19,
     "metadata": {},
     "output_type": "execute_result"
    }
   ],
   "source": [
    "df.shape"
   ]
  },
  {
   "cell_type": "code",
   "execution_count": null,
   "metadata": {},
   "outputs": [],
   "source": []
  }
 ],
 "metadata": {
  "kernelspec": {
   "display_name": "Python 3",
   "language": "python",
   "name": "python3"
  },
  "language_info": {
   "codemirror_mode": {
    "name": "ipython",
    "version": 3
   },
   "file_extension": ".py",
   "mimetype": "text/x-python",
   "name": "python",
   "nbconvert_exporter": "python",
   "pygments_lexer": "ipython3",
   "version": "3.7.3"
  }
 },
 "nbformat": 4,
 "nbformat_minor": 2
}
